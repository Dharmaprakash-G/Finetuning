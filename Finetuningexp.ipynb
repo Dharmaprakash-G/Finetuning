{
  "nbformat": 4,
  "nbformat_minor": 0,
  "metadata": {
    "colab": {
      "provenance": [],
      "authorship_tag": "ABX9TyNRZvDgf/UhkqUrdaP2uRoo",
      "include_colab_link": true
    },
    "kernelspec": {
      "name": "python3",
      "display_name": "Python 3"
    },
    "language_info": {
      "name": "python"
    }
  },
  "cells": [
    {
      "cell_type": "markdown",
      "metadata": {
        "id": "view-in-github",
        "colab_type": "text"
      },
      "source": [
        "<a href=\"https://colab.research.google.com/github/Dharmaprakash-G/Finetuning/blob/main/Finetuningexp.ipynb\" target=\"_parent\"><img src=\"https://colab.research.google.com/assets/colab-badge.svg\" alt=\"Open In Colab\"/></a>"
      ]
    },
    {
      "cell_type": "code",
      "execution_count": null,
      "metadata": {
        "colab": {
          "base_uri": "https://localhost:8080/"
        },
        "id": "v6mq4WWu9Kbm",
        "outputId": "0d6ec727-c6ec-427d-a42b-7f092282d0a6"
      },
      "outputs": [
        {
          "output_type": "stream",
          "name": "stdout",
          "text": [
            "Requirement already satisfied: gradientai in /usr/local/lib/python3.10/dist-packages (1.8.1)\n",
            "Requirement already satisfied: aenum>=3.1.11 in /usr/local/lib/python3.10/dist-packages (from gradientai) (3.1.15)\n",
            "Requirement already satisfied: pydantic<2.0.0,>=1.10.5 in /usr/local/lib/python3.10/dist-packages (from gradientai) (1.10.14)\n",
            "Requirement already satisfied: python-dateutil>=2.8.2 in /usr/local/lib/python3.10/dist-packages (from gradientai) (2.8.2)\n",
            "Requirement already satisfied: urllib3>=1.25.3 in /usr/local/lib/python3.10/dist-packages (from gradientai) (2.0.7)\n",
            "Requirement already satisfied: typing-extensions>=4.2.0 in /usr/local/lib/python3.10/dist-packages (from pydantic<2.0.0,>=1.10.5->gradientai) (4.10.0)\n",
            "Requirement already satisfied: six>=1.5 in /usr/local/lib/python3.10/dist-packages (from python-dateutil>=2.8.2->gradientai) (1.16.0)\n"
          ]
        }
      ],
      "source": [
        "!pip install gradientai --upgrade\n"
      ]
    },
    {
      "cell_type": "code",
      "source": [
        "import os\n",
        "os.environ['GRADIENT_WORKSPACE_ID']='9e6a1f5d-8124-45a3-8d83-a703cff9c5fc_workspace'\n",
        "os.environ['GRADIENT_ACCESS_TOKEN']='EuZXjXtzObZU30Z3g2Tc8O3CGG6Ml7fM'"
      ],
      "metadata": {
        "id": "_5IovPQg_C0U"
      },
      "execution_count": null,
      "outputs": []
    },
    {
      "cell_type": "code",
      "source": [
        "from gradientai import Gradient\n",
        "\n",
        "def main():\n",
        "  gradient=Gradient()\n",
        "  base_model = gradient.get_base_model(base_model_slug=\"nous-hermes2\")\n",
        "  new_model_adapter = base_model.create_model_adapter(name = \"dpmodel\")\n",
        "  print(f\"Created model adapter with id{new_model_adapter.id}\")\n",
        "\n",
        "  sample_query = \"### Instruction: Who is dp? \\n\\n ### Response:\"\n",
        "  print(f\"Asking: {sample_query}\")\n",
        "\n",
        "  completion = new_model_adapter.complete(query=sample_query, max_generated_token_count=100).generated_output\n",
        "  print(f\"Generated(before fine tuning):{completion}\")\n",
        "\n",
        "  samples=[\n",
        "      {\"inputs\":\"### Instruction: Who is dp? \\n\\n### Response: Dharmaprakash is a student at skct\"},\n",
        "      {\"inputs\":\"### Instruction: Who is this person named dp? \\n\\n### Response: Dharmaprakash is a student at skct studying Artificial intellengence and data sciense\"},\n",
        "      {\"inputs\":\"### Instruction: Who is this person named dp? \\n\\n### Response: Dharmaprakash is a student at skct whose age is 21\"},\n",
        "      {\"inputs\":\"### Instruction: Who is this person named dp? \\n\\n### Response: Dharmaprakash is a student at skct and he like to watch f1\"},\n",
        "      {\"inputs\":\"### Instruction: Who is this person named dp? \\n\\n### Response: Dharmaprakash is a student at skct and he is from cbe\"}\n",
        "  ]\n",
        "\n",
        "  num=3\n",
        "  count=0\n",
        "  while count<num:\n",
        "    print(f\"Fine tuning the model with iteration {count+1}\")\n",
        "    new_model_adapter.fine_tune(samples=samples)\n",
        "    count=count+1\n",
        "\n",
        "  sample_query = \"### Instruction: Who is dp? \\n\\n ### Response:\"\n",
        "  print(f\"Asking: {sample_query}\")\n",
        "\n",
        "  completion = new_model_adapter.complete(query=sample_query, max_generated_token_count=100).generated_output\n",
        "  print(f\"Generated(before fine tuning):{completion}\")\n",
        "\n",
        "\n",
        "\n",
        "\n",
        "\n",
        "if __name__ == \"__main__\":\n",
        "    main()"
      ],
      "metadata": {
        "colab": {
          "base_uri": "https://localhost:8080/"
        },
        "id": "SZ1hHjul__mt",
        "outputId": "8e483e47-3220-4bbe-c138-a0899c213e69"
      },
      "execution_count": null,
      "outputs": [
        {
          "output_type": "stream",
          "name": "stdout",
          "text": [
            "Created model adapter with ida3c28b70-7937-4bf9-b367-448b67d8aee6_model_adapter\n",
            "Asking: ### Instruction: Who is dp? \n",
            "\n",
            " ### Response:\n",
            "Generated(before fine tuning): DP stands for \"Department of Public Safety.\" It is a government agency responsible for public safety and law enforcement in many countries. The specific duties and responsibilities of the agency may vary depending on the country and jurisdiction it operates in.\n",
            "Fine tuning the model with iteration 1\n",
            "Fine tuning the model with iteration 2\n",
            "Fine tuning the model with iteration 3\n",
            "Asking: ### Instruction: Who is dp? \n",
            "\n",
            " ### Response:\n",
            "Generated(before fine tuning): Dharmaprakash is a student at skct studying Artificial intellengence and data sciense\n"
          ]
        }
      ]
    }
  ]
}